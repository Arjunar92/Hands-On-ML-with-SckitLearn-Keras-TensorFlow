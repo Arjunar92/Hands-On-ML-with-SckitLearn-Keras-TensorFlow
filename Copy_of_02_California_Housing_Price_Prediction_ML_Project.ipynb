{
  "nbformat": 4,
  "nbformat_minor": 0,
  "metadata": {
    "colab": {
      "provenance": [],
      "toc_visible": true,
      "authorship_tag": "ABX9TyM2QrVsY275sU1u2586w/Lm",
      "include_colab_link": true
    },
    "kernelspec": {
      "name": "python3",
      "display_name": "Python 3"
    },
    "language_info": {
      "name": "python"
    }
  },
  "cells": [
    {
      "cell_type": "markdown",
      "metadata": {
        "id": "view-in-github",
        "colab_type": "text"
      },
      "source": [
        "<a href=\"https://colab.research.google.com/github/Arjunar92/Hands-On-ML-with-SckitLearn-Keras-TensorFlow/blob/main/Copy_of_02_California_Housing_Price_Prediction_ML_Project.ipynb\" target=\"_parent\"><img src=\"https://colab.research.google.com/assets/colab-badge.svg\" alt=\"Open In Colab\"/></a>"
      ]
    },
    {
      "cell_type": "code",
      "execution_count": null,
      "metadata": {
        "id": "a4YMTOSD7DXZ"
      },
      "outputs": [],
      "source": [
        "#This is a code to practice\n",
        "#testing Git"
      ]
    }
  ]
}